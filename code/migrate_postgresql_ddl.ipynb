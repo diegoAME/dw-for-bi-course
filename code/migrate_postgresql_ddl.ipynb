{
 "cells": [
  {
   "cell_type": "markdown",
   "metadata": {},
   "source": [
    "## **Import**"
   ]
  },
  {
   "cell_type": "code",
   "execution_count": 1,
   "metadata": {},
   "outputs": [],
   "source": [
    "from sqlalchemy import create_engine, MetaData, text, inspect\n",
    "from sqlalchemy.schema import CreateTable\n",
    "import pandas as pd\n",
    "from dotenv import load_dotenv\n",
    "import os\n",
    "import re\n",
    "import subprocess\n",
    "\n",
    "import subprocess\n",
    "import psycopg2\n",
    "import os"
   ]
  },
  {
   "cell_type": "markdown",
   "metadata": {},
   "source": [
    "## **Input Parameters**"
   ]
  },
  {
   "cell_type": "code",
   "execution_count": 2,
   "metadata": {},
   "outputs": [],
   "source": [
    "# Cargar variables desde .env\n",
    "load_dotenv()\n",
    "\n",
    "# Obtener los valores\n",
    "SOURCE_USER = os.getenv(\"SOURCE_DB_USER\")\n",
    "SOURCE_PASSWORD = os.getenv(\"SOURCE_DB_PASSWORD\")\n",
    "SOURCE_HOST = os.getenv(\"SOURCE_DB_HOST\")\n",
    "SOURCE_PORT = os.getenv(\"SOURCE_DB_PORT\")\n",
    "SOURCE_DATABASE = os.getenv(\"SOURCE_DB_NAME\")\n",
    "\n",
    "TARGET_USER = os.getenv(\"TARGET_DB_USER\")\n",
    "TARGET_PASSWORD = os.getenv(\"TARGET_DB_PASSWORD\")\n",
    "TARGET_HOST = os.getenv(\"TARGET_DB_HOST\")\n",
    "TARGET_PORT = os.getenv(\"TARGET_DB_PORT\")\n",
    "TARGET_DATABASE = os.getenv(\"TARGET_DB_NAME\")"
   ]
  },
  {
   "cell_type": "markdown",
   "metadata": {},
   "source": [
    "## **Functions**"
   ]
  },
  {
   "cell_type": "code",
   "execution_count": 3,
   "metadata": {},
   "outputs": [],
   "source": [
    "def dql_execution(query_text, engine):\n",
    "    df = pd.read_sql(query_text, engine)\n",
    "    print(df)"
   ]
  },
  {
   "cell_type": "code",
   "execution_count": 4,
   "metadata": {},
   "outputs": [],
   "source": [
    "def ddl_dml_execution(sql_string,engine):\n",
    "    with engine.connect() as connection:\n",
    "        connection.execute(text(sql_string))\n",
    "        connection.commit()  "
   ]
  },
  {
   "cell_type": "code",
   "execution_count": 10,
   "metadata": {},
   "outputs": [],
   "source": [
    "def get_database_ddl(source_schemas,source_engine,source_inspector,target_engine):\n",
    "    \n",
    "    ddl_strings = {}\n",
    "\n",
    "    for schema_name in source_schemas:\n",
    "        metadata = MetaData()\n",
    "        metadata.reflect(bind=source_engine,schema=schema_name)\n",
    "        print(metadata.schema)"
   ]
  },
  {
   "cell_type": "markdown",
   "metadata": {},
   "source": [
    "## **Process**"
   ]
  },
  {
   "cell_type": "code",
   "execution_count": 11,
   "metadata": {},
   "outputs": [],
   "source": [
    "source_engine = create_engine(f\"postgresql://{SOURCE_USER}:{SOURCE_PASSWORD}@{SOURCE_HOST}:5432/{SOURCE_DATABASE}\")\n",
    "target_engine = create_engine(f\"postgresql://{TARGET_USER}:{TARGET_PASSWORD}@{TARGET_HOST}:5433/{TARGET_DATABASE}\")"
   ]
  },
  {
   "cell_type": "code",
   "execution_count": 12,
   "metadata": {},
   "outputs": [],
   "source": [
    "source_inspector = inspect(source_engine)"
   ]
  },
  {
   "cell_type": "code",
   "execution_count": 16,
   "metadata": {},
   "outputs": [
    {
     "data": {
      "text/plain": [
       "['public', 'university']"
      ]
     },
     "execution_count": 16,
     "metadata": {},
     "output_type": "execute_result"
    }
   ],
   "source": [
    "source_schemas = source_inspector.get_schema_names()\n",
    "source_schemas"
   ]
  },
  {
   "cell_type": "code",
   "execution_count": 14,
   "metadata": {},
   "outputs": [],
   "source": [
    "source_schemas.remove(\"information_schema\")"
   ]
  },
  {
   "cell_type": "code",
   "execution_count": 15,
   "metadata": {},
   "outputs": [
    {
     "name": "stdout",
     "output_type": "stream",
     "text": [
      "None\n",
      "None\n"
     ]
    }
   ],
   "source": [
    "ddl_dict = get_database_ddl(source_schemas=source_schemas,source_engine=source_engine,source_inspector=source_inspector,target_engine=target_engine)"
   ]
  },
  {
   "cell_type": "code",
   "execution_count": 93,
   "metadata": {},
   "outputs": [
    {
     "name": "stdout",
     "output_type": "stream",
     "text": [
      "{'course': {'create': '\\nCREATE TABLE IF NOT EXISTS university.course (\\n\\tcourseno CHAR(6) NOT NULL, \\n\\tcrsdesc VARCHAR(50) NOT NULL, \\n\\tcrsunits INTEGER)\\n\\n;', 'constraints': 'ALTER TABLE university.course  \\n\\tADD CONSTRAINT coursepk PRIMARY KEY (courseno), \\n\\tADD CONSTRAINT uniquecrsdesc UNIQUE (crsdesc)\\n;'}, 'faculty': {'create': '\\nCREATE TABLE IF NOT EXISTS university.faculty (\\n\\tfacno CHAR(11) NOT NULL, \\n\\tfacfirstname VARCHAR(30) NOT NULL, \\n\\tfaclastname VARCHAR(30) NOT NULL, \\n\\tfaccity VARCHAR(30) NOT NULL, \\n\\tfacstate CHAR(2) NOT NULL, \\n\\tfaczipcode CHAR(10) NOT NULL, \\n\\tfacrank CHAR(4), \\n\\tfachiredate DATE, \\n\\tfacsalary NUMERIC(10, 2), \\n\\tfacsupervisor CHAR(11), \\n\\tfacdept CHAR(6))\\n\\n;', 'constraints': 'ALTER TABLE university.faculty  \\n\\tADD CONSTRAINT facultypk PRIMARY KEY (facno), \\n\\tADD CONSTRAINT supervisorfk FOREIGN KEY(facsupervisor) REFERENCES university.faculty (facno)\\n;'}, 'student': {'create': '\\nCREATE TABLE IF NOT EXISTS university.student (\\n\\tstdno CHAR(11) NOT NULL, \\n\\tstdfirstname VARCHAR(50) NOT NULL, \\n\\tstdlastname VARCHAR(50) NOT NULL, \\n\\tstdcity VARCHAR(50) NOT NULL, \\n\\tstdstate CHAR(2) NOT NULL, \\n\\tstdzip CHAR(10) NOT NULL, \\n\\tstdmajor CHAR(6), \\n\\tstdclass CHAR(6), \\n\\tstdgpa NUMERIC(3, 2) DEFAULT 0)\\n\\n;', 'constraints': \"ALTER TABLE university.student  \\n\\tADD CONSTRAINT pkstudent PRIMARY KEY (stdno), \\n\\tADD CONSTRAINT majordeclared CHECK ((stdclass = ANY (ARRAY['FR'::bpchar, 'SO'::bpchar])) OR stdmajor IS NOT NULL), \\n\\tADD CONSTRAINT validgpa CHECK (stdgpa >= 0::numeric AND stdgpa <= 4::numeric), \\n\\tADD CONSTRAINT validstdclass CHECK (stdclass = ANY (ARRAY['FR'::bpchar, 'SO'::bpchar, 'JR'::bpchar, 'SR'::bpchar]))\\n;\"}, 'offering': {'create': \"\\nCREATE TABLE IF NOT EXISTS university.offering (\\n\\tofferno INTEGER NOT NULL, \\n\\tcourseno CHAR(6) NOT NULL, \\n\\toffterm CHAR(6) NOT NULL, \\n\\toffyear INTEGER DEFAULT 2022 NOT NULL, \\n\\tofflocation VARCHAR(30), \\n\\tofftime VARCHAR(10), \\n\\tfacno CHAR(11), \\n\\toffdays CHAR(6) DEFAULT 'MW'::bpchar)\\n\\n;\", 'constraints': 'ALTER TABLE university.offering  \\n\\tADD CONSTRAINT offeringpk PRIMARY KEY (offerno), \\n\\tADD CONSTRAINT coursefk FOREIGN KEY(courseno) REFERENCES university.course (courseno), \\n\\tADD CONSTRAINT facultyfk FOREIGN KEY(facno) REFERENCES university.faculty (facno)\\n;'}, 'enrollment': {'create': '\\nCREATE TABLE IF NOT EXISTS university.enrollment (\\n\\tofferno INTEGER NOT NULL, \\n\\tstdno CHAR(11) NOT NULL, \\n\\tenrgrade NUMERIC(3, 2) DEFAULT 0)\\n\\n;', 'constraints': 'ALTER TABLE university.enrollment  \\n\\tADD CONSTRAINT enrollmentpk PRIMARY KEY (offerno, stdno), \\n\\tADD CONSTRAINT offeringfk FOREIGN KEY(offerno) REFERENCES university.offering (offerno) ON DELETE CASCADE, \\n\\tADD CONSTRAINT studentfk FOREIGN KEY(stdno) REFERENCES university.student (stdno) ON DELETE CASCADE\\n;'}}\n"
     ]
    }
   ],
   "source": [
    "print(ddl_dict)"
   ]
  },
  {
   "cell_type": "code",
   "execution_count": 94,
   "metadata": {},
   "outputs": [],
   "source": [
    "for key,value in ddl_dict.items():\n",
    "    ddl_dml_execution(value['create'],target_engine)"
   ]
  },
  {
   "cell_type": "code",
   "execution_count": 95,
   "metadata": {},
   "outputs": [],
   "source": [
    "for key,value in ddl_dict.items():\n",
    "    ddl_dml_execution(value['constraints'],target_engine)"
   ]
  }
 ],
 "metadata": {
  "kernelspec": {
   "display_name": "dw-for-bi-course-env",
   "language": "python",
   "name": "python3"
  },
  "language_info": {
   "codemirror_mode": {
    "name": "ipython",
    "version": 3
   },
   "file_extension": ".py",
   "mimetype": "text/x-python",
   "name": "python",
   "nbconvert_exporter": "python",
   "pygments_lexer": "ipython3",
   "version": "3.13.2"
  }
 },
 "nbformat": 4,
 "nbformat_minor": 2
}
