{
 "cells": [
  {
   "cell_type": "markdown",
   "metadata": {},
   "source": [
    "## **Import**"
   ]
  },
  {
   "cell_type": "code",
   "execution_count": null,
   "metadata": {},
   "outputs": [],
   "source": [

    "from sqlalchemy import create_engine, MetaData, text, inspect\n",
    "from sqlalchemy.schema import CreateTable\n",
    "import pandas as pd\n",
    "from dotenv import load_dotenv\n",
    "import os"
   ]
  },
  {
   "cell_type": "markdown",
   "metadata": {},
   "source": [
    "## **Input Parameters**"
   ]
  },
  {
   "cell_type": "code",
   "execution_count": null,
   "metadata": {},
   "outputs": [],
   "source": [
    "# Cargar variables desde .env\n",
    "load_dotenv()\n",
    "\n",
    "# Obtener los valores\n",
    "SOURCE_USER = os.getenv(\"SOURCE_DB_USER\")\n",
    "SOURCE_PASSWORD = os.getenv(\"SOURCE_DB_PASSWORD\")\n",
    "SOURCE_HOST = os.getenv(\"SOURCE_DB_HOST\")\n",
    "SOURCE_PORT = os.getenv(\"SOURCE_DB_PORT\")\n",
    "SOURCE_DATABASE = os.getenv(\"SOURCE_DB_NAME\")\n",
    "\n",
    "TARGET_USER = os.getenv(\"TARGET_DB_USER\")\n",
    "TARGET_PASSWORD = os.getenv(\"TARGET_DB_PASSWORD\")\n",
    "TARGET_HOST = os.getenv(\"TARGET_DB_HOST\")\n",
    "TARGET_PORT = os.getenv(\"TARGET_DB_PORT\")\n",
    "TARGET_DATABASE = os.getenv(\"TARGET_DB_NAME\")"
   ]
  },
  {
   "cell_type": "markdown",
   "metadata": {},
   "source": [
    "## **Functions**"
   ]
  },
  {
   "cell_type": "code",
   "execution_count": null,
   "metadata": {},
   "outputs": [],
   "source": [
    "def dql_execution(query_text, engine):\n",
    "    df = pd.read_sql(query_text, engine)\n",
    "    print(df)"
   ]
  },
  {
   "cell_type": "code",
   "execution_count": null,
   "metadata": {},
   "outputs": [],
   "source": [
    "def ddl_dml_execution(sql_string,engine):\n",
    "    with engine.connect() as connection:\n",
    "        connection.execute(text(s|ql_string))\n",
    "        connection.commit()  "
   ]
  },
  {
   "cell_type": "markdown",
   "metadata": {},
   "source": [
    "## **Process**"
   ]
  },
  {
   "cell_type": "markdown",
   "metadata": {},
   "source": [
    "## **Functions**"
   ]
  },
  {
   "cell_type": "code",
   "execution_count": null,
   "metadata": {},
   "outputs": [],
   "source": [
    "def dql_execution(query_text, engine):\n",
    "    df = pd.read_sql(query_text, engine)\n",
    "    print(df)"
   ]
  },
  {
   "cell_type": "code",
   "execution_count": null,
   "metadata": {},
   "outputs": [],
   "source": [
    "def ddl_dml_execution(sql_string,engine):\n",
    "    with engine.connect() as connection:\n",
    "        connection.execute(text(sql_string))\n",
    "        connection.commit()  "
   ]
  },
  {
   "cell_type": "markdown",
   "metadata": {},
   "source": [
    "## **Process**"
   ]
  },
  {
   "cell_type": "code",
   "execution_count": null,
   "metadata": {},
   "outputs": [],
   "source": [
    "engine = create_engine(f\"postgresql://{USER}:{PASSWORD}@{HOST}:{PORT}/{DATABASE}\")\n"
   ]
  },
  {
   "cell_type": "code",
   "execution_count": null,
   "metadata": {},
   "outputs": [],
   "source": [
    "metadata = MetaData(schema=\"university\")\n",
    "metadata"
   ]
  },
  {
   "cell_type": "code",
   "execution_count": null,
   "metadata": {},
   "outputs": [],
   "source": [
    "metadata.reflect(bind=engine)\n",
    "metadata.sorted_tables"
   ]
  },
  {
   "cell_type": "code",
   "execution_count": null,
   "metadata": {},
   "outputs": [],
   "source": [

    "source_engine = create_engine(f\"postgresql://{SOURCE_USER}:{SOURCE_PASSWORD}@{SOURCE_HOST}:5432/{SOURCE_DATABASE}\")\n",
    "target_engine = create_engine(f\"postgresql://{TARGET_USER}:{TARGET_PASSWORD}@{TARGET_HOST}:5433/{TARGET_DATABASE}\")"
   ]
  },
  {
   "cell_type": "code",
   "execution_count": null,
   "metadata": {},
   "outputs": [],
   "source": [
    "source_inspector = inspect(source_engine)"
   ]
  },
  {
   "cell_type": "code",
   "execution_count": null,
   "metadata": {},
   "outputs": [],
   "source": [
    "source_schemas = source_inspector.get_schema_names()"
   ]
  },
  {
   "cell_type": "code",
   "execution_count": null,
   "metadata": {},
   "outputs": [],
   "source": [
    "source_schemas.remove(\"information_schema\")"
   ]
  },
  {
   "cell_type": "code",
   "execution_count": null,
   "metadata": {},
   "outputs": [],
   "source": [

   ]
  }
 ],
 "metadata": {
  "kernelspec": {
   "display_name": "dw-for-bi-course-env",
   "language": "python",
   "name": "python3"
  },
  "language_info": {
   "codemirror_mode": {
    "name": "ipython",
    "version": 3
   },
   "file_extension": ".py",
   "mimetype": "text/x-python",
   "name": "python",
   "nbconvert_exporter": "python",
   "pygments_lexer": "ipython3",
   "version": "3.13.2"
  }
 },
 "nbformat": 4,
 "nbformat_minor": 2
}
