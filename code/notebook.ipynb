{
 "cells": [
  {
   "cell_type": "markdown",
   "metadata": {},
   "source": [
    "## **Import**"
   ]
  },
  {
   "cell_type": "code",
   "execution_count": null,
   "metadata": {},
   "outputs": [],
   "source": [
    "from sqlalchemy import create_engine, MetaData, text\n",
    "from sqlalchemy.schema import CreateTable\n",
    "import pandas as pd\n",
    "from dotenv import load_dotenv\n",
    "import os"
   ]
  },
  {
   "cell_type": "markdown",
   "metadata": {},
   "source": [
    "## **Input Parameters**"
   ]
  },
  {
   "cell_type": "code",
   "execution_count": null,
   "metadata": {},
   "outputs": [],
   "source": [
    "# Cargar variables desde .env\n",
    "load_dotenv()\n",
    "\n",
    "# Obtener los valores\n",
    "USER = os.getenv(\"DB_USER\")\n",
    "PASSWORD = os.getenv(\"DB_PASSWORD\")\n",
    "HOST = os.getenv(\"DB_HOST\")\n",
    "PORT = os.getenv(\"DB_PORT\")\n",
    "DATABASE = os.getenv(\"DB_NAME\")"
   ]
  },
  {
   "cell_type": "markdown",
   "metadata": {},
   "source": [
    "## **Functions**"
   ]
  },
  {
   "cell_type": "code",
   "execution_count": null,
   "metadata": {},
   "outputs": [],
   "source": [
    "def dql_execution(query_text, engine):\n",
    "    df = pd.read_sql(query_text, engine)\n",
    "    print(df)"
   ]
  },
  {
   "cell_type": "code",
   "execution_count": null,
   "metadata": {},
   "outputs": [],
   "source": [
    "def ddl_dml_execution(sql_string,engine):\n",
    "    with engine.connect() as connection:\n",
    "        connection.execute(text(sql_string))\n",
    "        connection.commit()  "
   ]
  },
  {
   "cell_type": "markdown",
   "metadata": {},
   "source": [
    "## **Process**"
   ]
  },
  {
   "cell_type": "code",
   "execution_count": null,
   "metadata": {},
   "outputs": [],
   "source": [
    "engine = create_engine(f\"postgresql://{USER}:{PASSWORD}@{HOST}:{PORT}/{DATABASE}\")\n"
   ]
  },
  {
   "cell_type": "code",
   "execution_count": null,
   "metadata": {},
   "outputs": [],
   "source": [
    "metadata = MetaData(schema=\"university\")\n",
    "metadata"
   ]
  },
  {
   "cell_type": "code",
   "execution_count": null,
   "metadata": {},
   "outputs": [],
   "source": [
    "metadata.reflect(bind=engine)\n",
    "metadata.sorted_tables"
   ]
  },
  {
   "cell_type": "code",
   "execution_count": null,
   "metadata": {},
   "outputs": [],
   "source": [
    "ddl_statements = \"\\n\\n\".join(str(CreateTable(table).compile(engine)) for table in metadata.sorted_tables)\n",
    "print(ddl_statements)"
   ]
  },
  {
   "cell_type": "code",
   "execution_count": null,
   "metadata": {},
   "outputs": [],
   "source": [
    "for table in metadata.sorted_tables:\n",
    "    create_table_string = str(CreateTable(table).compile(engine))\n",
    "    print(create_table_string)"
   ]
  },
  {
   "cell_type": "code",
   "execution_count": null,
   "metadata": {},
   "outputs": [],
   "source": [
    "dql_execution(\"SELECT 1\",engine)"
   ]
  },
  {
   "cell_type": "code",
   "execution_count": null,
   "metadata": {},
   "outputs": [],
   "source": [
    "ddl_dml_execution(\"CREATE SCHEMA university\",engine)"
   ]
  },
  {
   "cell_type": "code",
   "execution_count": null,
   "metadata": {},
   "outputs": [],
   "source": [
    "ddl_dml_execution(\"\"\"CREATE TABLE university.courses (\n",
    "    id SERIAL PRIMARY KEY,\n",
    "    course_name VARCHAR(100) NOT NULL,\n",
    "    duration VARCHAR(150) UNIQUE NOT NULL,\n",
    "    semester INTEGER\n",
    ");\"\"\",engine)"
   ]
  },
  {
   "cell_type": "code",
   "execution_count": null,
   "metadata": {},
   "outputs": [],
   "source": [
    "ddl_dml_execution(\"DROP TABLE \")"
   ]
  }
 ],
 "metadata": {
  "kernelspec": {
   "display_name": "dw-for-bi-course-env",
   "language": "python",
   "name": "python3"
  },
  "language_info": {
   "codemirror_mode": {
    "name": "ipython",
    "version": 3
   },
   "file_extension": ".py",
   "mimetype": "text/x-python",
   "name": "python",
   "nbconvert_exporter": "python",
   "pygments_lexer": "ipython3",
   "version": "3.13.2"
  }
 },
 "nbformat": 4,
 "nbformat_minor": 2
}
