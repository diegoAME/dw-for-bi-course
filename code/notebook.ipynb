{
 "cells": [
  {
   "cell_type": "markdown",
   "metadata": {},
   "source": [
    "## **Import**"
   ]
  },
  {
   "cell_type": "code",
   "execution_count": 1,
   "metadata": {},
   "outputs": [],
   "source": [
    "from sqlalchemy import create_engine, MetaData, text, inspect\n",
    "from sqlalchemy.schema import CreateTable\n",
    "import pandas as pd\n",
    "from dotenv import load_dotenv\n",
    "import os"
   ]
  },
  {
   "cell_type": "markdown",
   "metadata": {},
   "source": [
    "## **Input Parameters**"
   ]
  },
  {
   "cell_type": "code",
   "execution_count": 2,
   "metadata": {},
   "outputs": [],
   "source": [
    "# Cargar variables desde .env\n",
    "load_dotenv()\n",
    "\n",
    "# Obtener los valores\n",
    "SOURCE_USER = os.getenv(\"SOURCE_DB_USER\")\n",
    "SOURCE_PASSWORD = os.getenv(\"SOURCE_DB_PASSWORD\")\n",
    "SOURCE_HOST = os.getenv(\"SOURCE_DB_HOST\")\n",
    "SOURCE_PORT = os.getenv(\"SOURCE_DB_PORT\")\n",
    "SOURCE_DATABASE = os.getenv(\"SOURCE_DB_NAME\")\n",
    "\n",
    "TARGET_USER = os.getenv(\"TARGET_DB_USER\")\n",
    "TARGET_PASSWORD = os.getenv(\"TARGET_DB_PASSWORD\")\n",
    "TARGET_HOST = os.getenv(\"TARGET_DB_HOST\")\n",
    "TARGET_PORT = os.getenv(\"TARGET_DB_PORT\")\n",
    "TARGET_DATABASE = os.getenv(\"TARGET_DB_NAME\")"
   ]
  },
  {
   "cell_type": "markdown",
   "metadata": {},
   "source": [
    "## **Functions**"
   ]
  },
  {
   "cell_type": "code",
   "execution_count": 3,
   "metadata": {},
   "outputs": [],
   "source": [
    "def dql_execution(query_text, engine):\n",
    "    df = pd.read_sql(query_text, engine)\n",
    "    print(df)"
   ]
  },
  {
   "cell_type": "code",
   "execution_count": 4,
   "metadata": {},
   "outputs": [],
   "source": [
    "def ddl_dml_execution(sql_string,engine):\n",
    "    with engine.connect() as connection:\n",
    "        connection.execute(text(sql_string))\n",
    "        connection.commit()  "
   ]
  },
  {
   "cell_type": "markdown",
   "metadata": {},
   "source": [
    "## **Process**"
   ]
  },
  {
   "cell_type": "code",
   "execution_count": 5,
   "metadata": {},
   "outputs": [],
   "source": [
    "source_engine = create_engine(f\"postgresql://{SOURCE_USER}:{SOURCE_PASSWORD}@{SOURCE_HOST}:5432/{SOURCE_DATABASE}\")\n",
    "target_engine = create_engine(f\"postgresql://{TARGET_USER}:{TARGET_PASSWORD}@{TARGET_HOST}:5433/{TARGET_DATABASE}\")"
   ]
  },
  {
   "cell_type": "code",
   "execution_count": 6,
   "metadata": {},
   "outputs": [],
   "source": [
    "source_inspector = inspect(source_engine)"
   ]
  },
  {
   "cell_type": "code",
   "execution_count": 7,
   "metadata": {},
   "outputs": [],
   "source": [
    "source_schemas = source_inspector.get_schema_names()"
   ]
  },
  {
   "cell_type": "code",
   "execution_count": 8,
   "metadata": {},
   "outputs": [],
   "source": [
    "source_schemas.remove(\"information_schema\")"
   ]
  },
  {
   "cell_type": "code",
   "execution_count": 22,
   "metadata": {},
   "outputs": [],
   "source": [
    "for schema_name in source_schemas:\n",
    "    metadata = MetaData(schema=schema_name)\n",
    "    metadata.reflect(bind=source_engine)\n",
    "    ddl_dml_execution(f\"CREATE SCHEMA IF NOT EXISTS {schema_name};\",target_engine)    \n",
    "    tables = source_inspector.get_table_names(schema=schema_name)\n",
    "\n",
    "    for num,table in enumerate(metadata.sorted_tables):\n",
    "        ddl_dml_execution(f\"{str(CreateTable(table).compile(source_engine))};\",target_engine)\n",
    "        #table_dict_ddl[f\"table{num+1}\"]={'schema':schema_name,'name':table_name,'ddl':str(CreateTable(table).compile(source_engine))}\n"
   ]
  }
 ],
 "metadata": {
  "kernelspec": {
   "display_name": "dw-for-bi-course-env",
   "language": "python",
   "name": "python3"
  },
  "language_info": {
   "codemirror_mode": {
    "name": "ipython",
    "version": 3
   },
   "file_extension": ".py",
   "mimetype": "text/x-python",
   "name": "python",
   "nbconvert_exporter": "python",
   "pygments_lexer": "ipython3",
   "version": "3.13.2"
  }
 },
 "nbformat": 4,
 "nbformat_minor": 2
}
